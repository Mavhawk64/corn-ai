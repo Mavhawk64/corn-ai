{
 "cells": [
  {
   "cell_type": "code",
   "execution_count": 1,
   "id": "588a79cf",
   "metadata": {},
   "outputs": [],
   "source": [
    "import tensorflow as tf\n",
    "from matplotlib import pyplot as plt\n",
    "from tensorflow.keras.layers import Flatten, Dense\n",
    "from tensorflow.keras.optimizers import Adam\n",
    "from tensorflow.keras.models import Model\n",
    "import numpy as np\n",
    "from tensorflow.keras.utils import plot_model\n",
    "import matplotlib.pyplot as plt\n",
    "\n",
    "BATCH_SIZE = 64\n",
    "EPOCH_SIZE = 64"
   ]
  },
  {
   "cell_type": "code",
   "execution_count": 2,
   "id": "38f8d2e9",
   "metadata": {},
   "outputs": [
    {
     "name": "stdout",
     "output_type": "stream",
     "text": [
      "Downloading data from https://storage.googleapis.com/tensorflow/keras-applications/vgg16/vgg16_weights_tf_dim_ordering_tf_kernels_notop.h5\n",
      "58889256/58889256 [==============================] - 2s 0us/step\n",
      "You must install pydot (`pip install pydot`) and install graphviz (see instructions at https://graphviz.gitlab.io/download/) for plot_model to work.\n"
     ]
    },
    {
     "name": "stderr",
     "output_type": "stream",
     "text": [
      "C:\\Users\\mavbe\\AppData\\Local\\Programs\\Python\\Python310\\lib\\site-packages\\keras\\optimizers\\optimizer_v2\\adam.py:114: UserWarning: The `lr` argument is deprecated, use `learning_rate` instead.\n",
      "  super().__init__(name, **kwargs)\n"
     ]
    }
   ],
   "source": [
    "# transfer learning - load pre-trained vgg and replace its head\n",
    "vgg = tf.keras.applications.VGG16(input_shape=[128, 128, 3], include_top=False, weights='imagenet')\n",
    "x = Flatten()(vgg.output)\n",
    "x = Dense(3, activation='sigmoid')(x)\n",
    "model1 = Model(vgg.input, x)\n",
    "model1.compile(loss='binary_crossentropy', optimizer=Adam(lr=0.001))\n",
    "# plot the model\n",
    "plot_model(model1, \"first_model.png\",show_shapes=True,expand_nested=False)"
   ]
  },
  {
   "cell_type": "code",
   "execution_count": 3,
   "id": "15fcb60f",
   "metadata": {},
   "outputs": [
    {
     "data": {
      "text/plain": [
       "<matplotlib.image.AxesImage at 0x2a3fbb51bd0>"
      ]
     },
     "execution_count": 3,
     "metadata": {},
     "output_type": "execute_result"
    },
    {
     "data": {
      "image/png": "[encoded data removed]",
      "text/plain": [
       "<Figure size 640x480 with 1 Axes>"
      ]
     },
     "metadata": {},
     "output_type": "display_data"
    }
   ],
   "source": [
    "from matplotlib.patches import Circle\n",
    "\n",
    "def synthetic_gen(batch_size=64):\n",
    "  # enable generating infinite amount of batches\n",
    "  while True:\n",
    "      # generate black images in the wanted size\n",
    "      X = np.zeros((batch_size, 128, 128, 3))\n",
    "      Y = np.zeros((batch_size, 3))\n",
    "      # fill each image\n",
    "      for i in range(batch_size):\n",
    "        x = np.random.randint(8,120)\n",
    "        y = np.random.randint(8,120)\n",
    "        a = min(128 - max(x,y), min(x,y))\n",
    "        r = np.random.randint(4,a)\n",
    "        for x_i in range(128):\n",
    "          for y_i in range(128):\n",
    "            if ((x_i - x)**2) + ((y_i - y)**2) < r**2:\n",
    "              X[i, x_i, y_i,:] = 1\n",
    "        Y[i,0] = (x-r)/128.\n",
    "        Y[i,1] = (y-r)/128.\n",
    "        Y[i,2] = 2*r / 128.\n",
    "      yield X, Y\n",
    "\n",
    "# sanity check - plot the images\n",
    "x,y = next(synthetic_gen())\n",
    "plt.imshow(x[0])"
   ]
  },
  {
   "cell_type": "code",
   "execution_count": null,
   "id": "df505483",
   "metadata": {},
   "outputs": [
    {
     "name": "stderr",
     "output_type": "stream",
     "text": [
      "C:\\Users\\mavbe\\AppData\\Local\\Temp\\ipykernel_36672\\3760285612.py:2: UserWarning: `Model.fit_generator` is deprecated and will be removed in a future version. Please use `Model.fit`, which supports generators.\n",
      "  model1.fit_generator(synthetic_gen(),steps_per_epoch=EPOCH_SIZE,epochs=5)\n"
     ]
    },
    {
     "name": "stdout",
     "output_type": "stream",
     "text": [
      "Epoch 1/5\n",
      "20/64 [========>.....................] - ETA: 4:13 - loss: 0.6681"
     ]
    }
   ],
   "source": [
    "# needs steps per epoch since the generator is infinite\n",
    "model1.fit_generator(synthetic_gen(),steps_per_epoch=EPOCH_SIZE,epochs=5)"
   ]
  },
  {
   "cell_type": "code",
   "execution_count": null,
   "id": "eb90a078",
   "metadata": {},
   "outputs": [],
   "source": [
    "from matplotlib.patches import Rectangle\n",
    "\n",
    "# given image and a label, plots the image + rectangle\n",
    "def plot_pred(img,p):\n",
    "  fig, ax = plt.subplots(1)\n",
    "  ax.imshow(img)\n",
    "  rect = Rectangle(xy=(p[1]*128,p[0]*128),width=p[2]*128, height=p[2]*128, linewidth=1,edgecolor='g',facecolor='none')\n",
    "  ax.add_patch(rect)\n",
    "  plt.show()\n",
    "\n",
    "\n",
    "# generate new image\n",
    "x, _ = next(synthetic_gen())\n",
    "# predict\n",
    "pred = model1.predict(x)\n",
    "# examine 1 image\n",
    "im = x[0]\n",
    "p = pred[0]\n",
    "plot_pred(im,p)"
   ]
  },
  {
   "cell_type": "code",
   "execution_count": null,
   "id": "c99cc3f7",
   "metadata": {},
   "outputs": [],
   "source": [
    "from PIL import Image\n",
    "from matplotlib.patches import Circle\n",
    "\n",
    "cat_pil = Image.open(\"cat.png\")\n",
    "cat_pil = cat_pil.resize((64,64))\n",
    "cat = np.asarray(cat_pil)\n",
    "\n",
    "def cat_gen(batch_size=64):\n",
    "  # enable generating infinite amount of batches\n",
    "  while True:\n",
    "      # generate black images in the wanted size\n",
    "      X = np.zeros((batch_size, 128, 128, 3))\n",
    "      Y = np.zeros((batch_size, 3))\n",
    "      # fill each image\n",
    "      for i in range(batch_size):\n",
    "        # resize the cat\n",
    "        size = np.random.randint(32,64)\n",
    "        temp_cat = cat_pil.resize((size,size))\n",
    "        cat = np.asarray(temp_cat) / 255.\n",
    "        cat_x, cat_y, _ = cat.shape\n",
    "        # create a blank background image\n",
    "        bg = Image.new('RGB', (128, 128))\n",
    "        # generate \n",
    "        x1 = np.random.randint(1,128 - cat_x)\n",
    "        y1 = np.random.randint(1,128 - cat_y)\n",
    "        # paste the cat over the image\n",
    "        bg.paste(temp_cat, (x1, y1))\n",
    "        cat = np.asarray(bg) / 255. # transform into a np array\n",
    "        X[i] = cat\n",
    "\n",
    "        Y[i,0] = x1/128.\n",
    "        Y[i,1] = y1/128.\n",
    "        Y[i,2] = cat_x / 128.\n",
    "      yield X, Y\n",
    "\n",
    "# plot the images\n",
    "x,y = next(cat_gen())\n",
    "plt.imshow(x[0])"
   ]
  },
  {
   "cell_type": "code",
   "execution_count": null,
   "id": "1f653df6",
   "metadata": {},
   "outputs": [],
   "source": [
    "# transfer learning - load pre-trained vgg and replace its head\n",
    "vgg = tf.keras.applications.VGG16(input_shape=[128, 128, 3], include_top=False, weights='imagenet')\n",
    "x = Flatten()(vgg.output)\n",
    "x = Dense(3, activation='sigmoid')(x)\n",
    "model2 = Model(vgg.input, x)\n",
    "model2.compile(loss='binary_crossentropy', optimizer=Adam(lr=0.001))\n",
    "# plot the model\n",
    "plot_model(model2, \"second_model.png\",show_shapes=True)\n",
    "\n",
    "# needs steps per epoch since the generator is infinite\n",
    "model2.fit_generator(cat_gen(),steps_per_epoch=EPOCH_SIZE,epochs=5)\n",
    "\n",
    "from matplotlib.patches import Rectangle\n",
    "\n",
    "# given image and a label, plots the image + rectangle\n",
    "def plot_pred(img,p):\n",
    "  fig, ax = plt.subplots(1)\n",
    "  ax.imshow(img)\n",
    "  rect = Rectangle(xy=(p[0]*128,p[1]*128),width=p[2]*128, height=p[2]*128, linewidth=1,edgecolor='g',facecolor='none')\n",
    "  ax.add_patch(rect)\n",
    "  plt.show()\n",
    "\n",
    "\n",
    "# generate new image\n",
    "x, _ = next(cat_gen())\n",
    "# predict\n",
    "pred = model2.predict(x)\n",
    "# examine 1 image\n",
    "im = x[0]\n",
    "p = pred[0]\n",
    "plot_pred(im,p)"
   ]
  },
  {
   "cell_type": "code",
   "execution_count": null,
   "id": "7086d2ed",
   "metadata": {},
   "outputs": [],
   "source": [
    "from PIL import Image\n",
    "\n",
    "cat_pil = Image.open(\"cat.png\")\n",
    "cat_pil = cat_pil.resize((64,64))\n",
    "cat = np.asarray(cat_pil)\n",
    "\n",
    "def natural_cat_gen(batch_size=64):\n",
    "  # enable generating infinite amount of batches\n",
    "  while True:\n",
    "      # generate black images in the wanted size\n",
    "      X = np.zeros((batch_size, 128, 128, 3))\n",
    "      Y = np.zeros((batch_size, 3))\n",
    "      # fill each image\n",
    "      for i in range(batch_size):\n",
    "        # resize the cat\n",
    "        size = np.random.randint(32,64)\n",
    "        temp_cat = cat_pil.resize((size,size))\n",
    "        cat = np.asarray(temp_cat) / 255.\n",
    "        cat_x, cat_y, _ = cat.shape\n",
    "        # background image\n",
    "        bg_name = f'bg{np.random.randint(1,4)}.jpg'\n",
    "        bg = Image.open(bg_name)\n",
    "\n",
    "        x1 = np.random.randint(1,128 - cat_x)\n",
    "        y1 = np.random.randint(1,128 - cat_y)\n",
    "        h = cat_x\n",
    "        w = cat_y\n",
    "        # draw the cat over the selected background image\n",
    "        bg.paste(temp_cat, (x1, y1),mask=temp_cat)\n",
    "        cat = np.asarray(bg) / 255.\n",
    "        X[i] = cat\n",
    "\n",
    "        Y[i,0] = x1/128.\n",
    "        Y[i,1] = y1/128.\n",
    "        Y[i,2] = cat_x / 128.\n",
    "      yield X, Y\n",
    "\n",
    "# sanity check - plot the images\n",
    "x,y = next(natural_cat_gen())\n",
    "plt.imshow(x[0])"
   ]
  },
  {
   "cell_type": "code",
   "execution_count": null,
   "id": "9f15b74f",
   "metadata": {},
   "outputs": [],
   "source": [
    "# define a mode\n",
    "# transfer learning - load pre-trained vgg and replace its head\n",
    "vgg = tf.keras.applications.VGG16(input_shape=[128, 128, 3], include_top=False, weights='imagenet')\n",
    "x = Flatten()(vgg.output)\n",
    "x = Dense(3, activation='sigmoid')(x)\n",
    "model3 = Model(vgg.input, x)\n",
    "model3.compile(loss='binary_crossentropy', optimizer=Adam(lr=0.001))\n",
    "# plot the model\n",
    "plot_model(model3, \"third_model.png\",show_shapes=True)\n",
    "\n",
    "# train it\n",
    "# needs steps per epoch since the generator is infinite\n",
    "model3.fit_generator(natural_cat_gen(),steps_per_epoch=EPOCH_SIZE,epochs=5)\n",
    "\n",
    "from matplotlib.patches import Rectangle\n",
    "\n",
    "# given image and a label, plots the image + rectangle\n",
    "def plot_pred(img,p):\n",
    "  fig, ax = plt.subplots(1)\n",
    "  ax.imshow(img)\n",
    "  rect = Rectangle(xy=(p[0]*128,p[1]*128),width=p[2]*128, height=p[2]*128, linewidth=1,edgecolor='r',facecolor='none')\n",
    "  ax.add_patch(rect)\n",
    "  plt.show()\n",
    "\n",
    "\n",
    "# generate new image\n",
    "x, _ = next(natural_cat_gen())\n",
    "# predict\n",
    "pred = model3.predict(x)\n",
    "# examine 1 image\n",
    "im = x[0]\n",
    "p = pred[0]\n",
    "plot_pred(im,p)"
   ]
  },
  {
   "cell_type": "code",
   "execution_count": null,
   "id": "1dbba359",
   "metadata": {},
   "outputs": [],
   "source": []
  }
 ],
 "metadata": {
  "kernelspec": {
   "display_name": "Python 3 (ipykernel)",
   "language": "python",
   "name": "python3"
  },
  "language_info": {
   "codemirror_mode": {
    "name": "ipython",
    "version": 3
   },
   "file_extension": ".py",
   "mimetype": "text/x-python",
   "name": "python",
   "nbconvert_exporter": "python",
   "pygments_lexer": "ipython3",
   "version": "3.10.4"
  }
 },
 "nbformat": 4,
 "nbformat_minor": 5
}
