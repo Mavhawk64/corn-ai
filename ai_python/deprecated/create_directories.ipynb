{
 "cells": [
  {
   "cell_type": "code",
   "execution_count": 1,
   "id": "1df083da",
   "metadata": {},
   "outputs": [],
   "source": [
    "import os\n",
    "img_loc = \"/Users/maverick/Downloads/images_handheld/\"\n",
    "os.chdir(img_loc)\n",
    "os.mkdir(\"Train\")\n",
    "os.chdir(img_loc + \"Train\")\n",
    "os.mkdir(\"Healthy\")\n",
    "os.mkdir(\"Sick\")\n",
    "os.chdir(img_loc)\n",
    "os.mkdir(\"Test\")\n",
    "os.chdir(img_loc + \"Test\")\n",
    "os.mkdir(\"Healthy\")\n",
    "os.mkdir(\"Sick\")\n",
    "os.chdir(img_loc)"
   ]
  },
  {
   "cell_type": "code",
   "execution_count": 5,
   "id": "f0c5bba1",
   "metadata": {},
   "outputs": [],
   "source": [
    "train = []\n",
    "test = []\n",
    "for x in os.listdir():\n",
    "    if x.endswith(\"JPG\"):\n",
    "        train.append(x)\n",
    "    elif x.upper().endswith(\"JPEG\"):\n",
    "        test.append(x)"
   ]
  },
  {
   "cell_type": "code",
   "execution_count": 13,
   "id": "ca3e4bbc",
   "metadata": {},
   "outputs": [],
   "source": [
    "f = open(\"/Users/maverick/Downloads/annotations_handheld.csv\",\"r\")\n",
    "yn = [] # [[\"DSC00025.JPG\",True],...] --> True = Sick\n",
    "fn = []\n",
    "for i in f.read().split(\"\\n\")[1:][:-1]:\n",
    "    x = i.split(',')\n",
    "    if x[0] not in fn:\n",
    "        fn.append(x[0])\n",
    "        yn.append([x[0],not (int(x[1]) == 0 and int(x[2]) == 0 and int(x[3]) == 0 and int(x[4]) == 0)])\n",
    "f.close()"
   ]
  },
  {
   "cell_type": "code",
   "execution_count": 14,
   "id": "5e26a2c2",
   "metadata": {},
   "outputs": [],
   "source": [
    "for i in yn:\n",
    "    new_loc = img_loc\n",
    "    if i[0].endswith(\"JPG\"):\n",
    "        new_loc += \"Train/\"\n",
    "    else:\n",
    "        new_loc += \"Test/\"\n",
    "    \n",
    "    if i[1]:\n",
    "        new_loc += \"Sick/\"\n",
    "    else:\n",
    "        new_loc += \"Healthy/\"\n",
    "    os.replace(img_loc + i[0],new_loc + i[0])"
   ]
  },
  {
   "cell_type": "code",
   "execution_count": null,
   "id": "4b96929a",
   "metadata": {},
   "outputs": [],
   "source": []
  }
 ],
 "metadata": {
  "kernelspec": {
   "display_name": "Python 3 (ipykernel)",
   "language": "python",
   "name": "python3"
  },
  "language_info": {
   "codemirror_mode": {
    "name": "ipython",
    "version": 3
   },
   "file_extension": ".py",
   "mimetype": "text/x-python",
   "name": "python",
   "nbconvert_exporter": "python",
   "pygments_lexer": "ipython3",
   "version": "3.8.3"
  }
 },
 "nbformat": 4,
 "nbformat_minor": 5
}
