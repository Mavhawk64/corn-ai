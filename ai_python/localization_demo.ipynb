{
 "cells": [
  {
   "cell_type": "code",
   "execution_count": 3,
   "id": "4aaf0096",
   "metadata": {},
   "outputs": [],
   "source": [
    "import tensorflow as tf\n",
    "from matplotlib import pyplot as plt\n",
    "from tensorflow.keras.layers import Flatten, Dense\n",
    "from tensorflow.keras.optimizers import Adam\n",
    "from tensorflow.keras.models import Model\n",
    "import numpy as np\n",
    "from tensorflow.keras.utils import plot_model\n",
    "import matplotlib.pyplot as plt\n",
    "\n",
    "BATCH_SIZE = 64\n",
    "EPOCH_SIZE = 64"
   ]
  },
  {
   "cell_type": "code",
   "execution_count": 4,
   "id": "43c2d7af",
   "metadata": {},
   "outputs": [
    {
     "name": "stdout",
     "output_type": "stream",
     "text": [
      "You must install pydot (`pip install pydot`) and install graphviz (see instructions at https://graphviz.gitlab.io/download/) for plot_model to work.\n"
     ]
    },
    {
     "name": "stderr",
     "output_type": "stream",
     "text": [
      "C:\\Users\\mavbe\\AppData\\Local\\Programs\\Python\\Python310\\lib\\site-packages\\keras\\optimizers\\optimizer_v2\\adam.py:114: UserWarning: The `lr` argument is deprecated, use `learning_rate` instead.\n",
      "  super().__init__(name, **kwargs)\n"
     ]
    }
   ],
   "source": [
    "# transfer learning - load pre-trained vgg and replace its head\n",
    "vgg = tf.keras.applications.VGG16(input_shape=[128, 128, 3], include_top=False, weights='imagenet')\n",
    "x = Flatten()(vgg.output)\n",
    "x = Dense(3, activation='sigmoid')(x)\n",
    "model1 = Model(vgg.input, x)\n",
    "model1.compile(loss='binary_crossentropy', optimizer=Adam(lr=0.001))\n",
    "# plot the model\n",
    "plot_model(model1, \"first_model.png\",show_shapes=True,expand_nested=False)"
   ]
  },
  {
   "cell_type": "code",
   "execution_count": 5,
   "id": "a2f7b03c",
   "metadata": {},
   "outputs": [
    {
     "data": {
      "text/plain": [
       "<matplotlib.image.AxesImage at 0x2a55eecc250>"
      ]
     },
     "execution_count": 5,
     "metadata": {},
     "output_type": "execute_result"
    },
    {
     "data": {
      "image/png": "[encoded data removed]",
      "text/plain": [
       "<Figure size 640x480 with 1 Axes>"
      ]
     },
     "metadata": {},
     "output_type": "display_data"
    }
   ],
   "source": [
    "from matplotlib.patches import Circle\n",
    "\n",
    "def synthetic_gen(batch_size=64):\n",
    "  # enable generating infinite amount of batches\n",
    "  while True:\n",
    "      # generate black images in the wanted size\n",
    "      X = np.zeros((batch_size, 128, 128, 3))\n",
    "      Y = np.zeros((batch_size, 3))\n",
    "      # fill each image\n",
    "      for i in range(batch_size):\n",
    "        x = np.random.randint(8,120)\n",
    "        y = np.random.randint(8,120)\n",
    "        a = min(128 - max(x,y), min(x,y))\n",
    "        r = np.random.randint(4,a)\n",
    "        for x_i in range(128):\n",
    "          for y_i in range(128):\n",
    "            if ((x_i - x)**2) + ((y_i - y)**2) < r**2:\n",
    "              X[i, x_i, y_i,:] = 1\n",
    "        Y[i,0] = (x-r)/128.\n",
    "        Y[i,1] = (y-r)/128.\n",
    "        Y[i,2] = 2*r / 128.\n",
    "      yield X, Y\n",
    "\n",
    "# sanity check - plot the images\n",
    "x,y = next(synthetic_gen())\n",
    "plt.imshow(x[0])"
   ]
  },
  {
   "cell_type": "code",
   "execution_count": 6,
   "id": "ecb833b0",
   "metadata": {},
   "outputs": [
    {
     "name": "stderr",
     "output_type": "stream",
     "text": [
      "C:\\Users\\mavbe\\AppData\\Local\\Temp\\ipykernel_78328\\3760285612.py:2: UserWarning: `Model.fit_generator` is deprecated and will be removed in a future version. Please use `Model.fit`, which supports generators.\n",
      "  model1.fit_generator(synthetic_gen(),steps_per_epoch=EPOCH_SIZE,epochs=5)\n"
     ]
    },
    {
     "name": "stdout",
     "output_type": "stream",
     "text": [
      "Epoch 1/5\n",
      "64/64 [==============================] - 386s 6s/step - loss: 0.5777\n",
      "Epoch 2/5\n",
      "64/64 [==============================] - 394s 6s/step - loss: 0.4927\n",
      "Epoch 3/5\n",
      "64/64 [==============================] - 382s 6s/step - loss: 0.4940\n",
      "Epoch 4/5\n",
      "64/64 [==============================] - 407s 6s/step - loss: 0.4906\n",
      "Epoch 5/5\n",
      "64/64 [==============================] - 402s 6s/step - loss: 0.4935\n"
     ]
    },
    {
     "data": {
      "text/plain": [
       "<keras.callbacks.History at 0x2a55eecd510>"
      ]
     },
     "execution_count": 6,
     "metadata": {},
     "output_type": "execute_result"
    }
   ],
   "source": [
    "# needs steps per epoch since the generator is infinite\n",
    "model1.fit_generator(synthetic_gen(),steps_per_epoch=EPOCH_SIZE,epochs=5)"
   ]
  },
  {
   "cell_type": "code",
   "execution_count": 7,
   "id": "9172384d",
   "metadata": {},
   "outputs": [
    {
     "name": "stdout",
     "output_type": "stream",
     "text": [
      "2/2 [==============================] - 2s 714ms/step\n"
     ]
    },
    {
     "data": {
      "image/png": "[encoded data removed]",
      "text/plain": [
       "<Figure size 640x480 with 1 Axes>"
      ]
     },
     "metadata": {},
     "output_type": "display_data"
    }
   ],
   "source": [
    "from matplotlib.patches import Rectangle\n",
    "\n",
    "# given image and a label, plots the image + rectangle\n",
    "def plot_pred(img,p):\n",
    "  fig, ax = plt.subplots(1)\n",
    "  ax.imshow(img)\n",
    "  rect = Rectangle(xy=(p[1]*128,p[0]*128),width=p[2]*128, height=p[2]*128, linewidth=1,edgecolor='g',facecolor='none')\n",
    "  ax.add_patch(rect)\n",
    "  plt.show()\n",
    "\n",
    "\n",
    "# generate new image\n",
    "x, _ = next(synthetic_gen())\n",
    "# predict\n",
    "pred = model1.predict(x)\n",
    "# examine 1 image\n",
    "im = x[0]\n",
    "p = pred[0]\n",
    "plot_pred(im,p)"
   ]
  },
  {
   "cell_type": "code",
   "execution_count": 8,
   "id": "b50d772a",
   "metadata": {},
   "outputs": [
    {
     "name": "stdout",
     "output_type": "stream",
     "text": [
      "[0.6740293  0.21625155 0.31702027]\n"
     ]
    }
   ],
   "source": [
    "print(p)"
   ]
  },
  {
   "cell_type": "code",
   "execution_count": 6,
   "id": "44eea91b",
   "metadata": {},
   "outputs": [
    {
     "ename": "FileNotFoundError",
     "evalue": "[Errno 2] No such file or directory: 'cat.png'",
     "output_type": "error",
     "traceback": [
      "\u001b[1;31m---------------------------------------------------------------------------\u001b[0m",
      "\u001b[1;31mFileNotFoundError\u001b[0m                         Traceback (most recent call last)",
      "Cell \u001b[1;32mIn [6], line 4\u001b[0m\n\u001b[0;32m      1\u001b[0m \u001b[38;5;28;01mfrom\u001b[39;00m \u001b[38;5;21;01mPIL\u001b[39;00m \u001b[38;5;28;01mimport\u001b[39;00m Image\n\u001b[0;32m      2\u001b[0m \u001b[38;5;28;01mfrom\u001b[39;00m \u001b[38;5;21;01mmatplotlib\u001b[39;00m\u001b[38;5;21;01m.\u001b[39;00m\u001b[38;5;21;01mpatches\u001b[39;00m \u001b[38;5;28;01mimport\u001b[39;00m Circle\n\u001b[1;32m----> 4\u001b[0m cat_pil \u001b[38;5;241m=\u001b[39m \u001b[43mImage\u001b[49m\u001b[38;5;241;43m.\u001b[39;49m\u001b[43mopen\u001b[49m\u001b[43m(\u001b[49m\u001b[38;5;124;43m\"\u001b[39;49m\u001b[38;5;124;43mcat.png\u001b[39;49m\u001b[38;5;124;43m\"\u001b[39;49m\u001b[43m)\u001b[49m\n\u001b[0;32m      5\u001b[0m cat_pil \u001b[38;5;241m=\u001b[39m cat_pil\u001b[38;5;241m.\u001b[39mresize((\u001b[38;5;241m64\u001b[39m,\u001b[38;5;241m64\u001b[39m))\n\u001b[0;32m      6\u001b[0m cat \u001b[38;5;241m=\u001b[39m np\u001b[38;5;241m.\u001b[39masarray(cat_pil)\n",
      "File \u001b[1;32m~\\AppData\\Local\\Programs\\Python\\Python310\\lib\\site-packages\\PIL\\Image.py:2953\u001b[0m, in \u001b[0;36mopen\u001b[1;34m(fp, mode, formats)\u001b[0m\n\u001b[0;32m   2950\u001b[0m     filename \u001b[38;5;241m=\u001b[39m fp\n\u001b[0;32m   2952\u001b[0m \u001b[38;5;28;01mif\u001b[39;00m filename:\n\u001b[1;32m-> 2953\u001b[0m     fp \u001b[38;5;241m=\u001b[39m \u001b[43mbuiltins\u001b[49m\u001b[38;5;241;43m.\u001b[39;49m\u001b[43mopen\u001b[49m\u001b[43m(\u001b[49m\u001b[43mfilename\u001b[49m\u001b[43m,\u001b[49m\u001b[43m \u001b[49m\u001b[38;5;124;43m\"\u001b[39;49m\u001b[38;5;124;43mrb\u001b[39;49m\u001b[38;5;124;43m\"\u001b[39;49m\u001b[43m)\u001b[49m\n\u001b[0;32m   2954\u001b[0m     exclusive_fp \u001b[38;5;241m=\u001b[39m \u001b[38;5;28;01mTrue\u001b[39;00m\n\u001b[0;32m   2956\u001b[0m \u001b[38;5;28;01mtry\u001b[39;00m:\n",
      "\u001b[1;31mFileNotFoundError\u001b[0m: [Errno 2] No such file or directory: 'cat.png'"
     ]
    }
   ],
   "source": [
    "from PIL import Image\n",
    "from matplotlib.patches import Circle\n",
    "\n",
    "cat_pil = Image.open(\"cat.png\")\n",
    "cat_pil = cat_pil.resize((64,64))\n",
    "cat = np.asarray(cat_pil)\n",
    "\n",
    "def cat_gen(batch_size=64):\n",
    "  # enable generating infinite amount of batches\n",
    "  while True:\n",
    "      # generate black images in the wanted size\n",
    "      X = np.zeros((batch_size, 128, 128, 3))\n",
    "      Y = np.zeros((batch_size, 3))\n",
    "      # fill each image\n",
    "      for i in range(batch_size):\n",
    "        # resize the cat\n",
    "        size = np.random.randint(32,64)\n",
    "        temp_cat = cat_pil.resize((size,size))\n",
    "        cat = np.asarray(temp_cat) / 255.\n",
    "        cat_x, cat_y, _ = cat.shape\n",
    "        # create a blank background image\n",
    "        bg = Image.new('RGB', (128, 128))\n",
    "        # generate \n",
    "        x1 = np.random.randint(1,128 - cat_x)\n",
    "        y1 = np.random.randint(1,128 - cat_y)\n",
    "        # paste the cat over the image\n",
    "        bg.paste(temp_cat, (x1, y1))\n",
    "        cat = np.asarray(bg) / 255. # transform into a np array\n",
    "        X[i] = cat\n",
    "\n",
    "        Y[i,0] = x1/128.\n",
    "        Y[i,1] = y1/128.\n",
    "        Y[i,2] = cat_x / 128.\n",
    "      yield X, Y\n",
    "\n",
    "# plot the images\n",
    "x,y = next(cat_gen())\n",
    "plt.imshow(x[0])"
   ]
  },
  {
   "cell_type": "code",
   "execution_count": null,
   "id": "9206b55c",
   "metadata": {},
   "outputs": [],
   "source": [
    "# transfer learning - load pre-trained vgg and replace its head\n",
    "vgg = tf.keras.applications.VGG16(input_shape=[128, 128, 3], include_top=False, weights='imagenet')\n",
    "x = Flatten()(vgg.output)\n",
    "x = Dense(3, activation='sigmoid')(x)\n",
    "model2 = Model(vgg.input, x)\n",
    "model2.compile(loss='binary_crossentropy', optimizer=Adam(lr=0.001))\n",
    "# plot the model\n",
    "plot_model(model2, \"second_model.png\",show_shapes=True)\n",
    "\n",
    "# needs steps per epoch since the generator is infinite\n",
    "model2.fit_generator(cat_gen(),steps_per_epoch=EPOCH_SIZE,epochs=5)\n",
    "\n",
    "from matplotlib.patches import Rectangle\n",
    "\n",
    "# given image and a label, plots the image + rectangle\n",
    "def plot_pred(img,p):\n",
    "  fig, ax = plt.subplots(1)\n",
    "  ax.imshow(img)\n",
    "  rect = Rectangle(xy=(p[0]*128,p[1]*128),width=p[2]*128, height=p[2]*128, linewidth=1,edgecolor='g',facecolor='none')\n",
    "  ax.add_patch(rect)\n",
    "  plt.show()\n",
    "\n",
    "\n",
    "# generate new image\n",
    "x, _ = next(cat_gen())\n",
    "# predict\n",
    "pred = model2.predict(x)\n",
    "# examine 1 image\n",
    "im = x[0]\n",
    "p = pred[0]\n",
    "plot_pred(im,p)"
   ]
  },
  {
   "cell_type": "code",
   "execution_count": null,
   "id": "d6ce4a27",
   "metadata": {},
   "outputs": [],
   "source": [
    "from PIL import Image\n",
    "\n",
    "cat_pil = Image.open(\"cat.png\")\n",
    "cat_pil = cat_pil.resize((64,64))\n",
    "cat = np.asarray(cat_pil)\n",
    "\n",
    "def natural_cat_gen(batch_size=64):\n",
    "  # enable generating infinite amount of batches\n",
    "  while True:\n",
    "      # generate black images in the wanted size\n",
    "      X = np.zeros((batch_size, 128, 128, 3))\n",
    "      Y = np.zeros((batch_size, 3))\n",
    "      # fill each image\n",
    "      for i in range(batch_size):\n",
    "        # resize the cat\n",
    "        size = np.random.randint(32,64)\n",
    "        temp_cat = cat_pil.resize((size,size))\n",
    "        cat = np.asarray(temp_cat) / 255.\n",
    "        cat_x, cat_y, _ = cat.shape\n",
    "        # background image\n",
    "        bg_name = f'bg{np.random.randint(1,4)}.jpg'\n",
    "        bg = Image.open(bg_name)\n",
    "\n",
    "        x1 = np.random.randint(1,128 - cat_x)\n",
    "        y1 = np.random.randint(1,128 - cat_y)\n",
    "        h = cat_x\n",
    "        w = cat_y\n",
    "        # draw the cat over the selected background image\n",
    "        bg.paste(temp_cat, (x1, y1),mask=temp_cat)\n",
    "        cat = np.asarray(bg) / 255.\n",
    "        X[i] = cat\n",
    "\n",
    "        Y[i,0] = x1/128.\n",
    "        Y[i,1] = y1/128.\n",
    "        Y[i,2] = cat_x / 128.\n",
    "      yield X, Y\n",
    "\n",
    "# sanity check - plot the images\n",
    "x,y = next(natural_cat_gen())\n",
    "plt.imshow(x[0])"
   ]
  },
  {
   "cell_type": "code",
   "execution_count": null,
   "id": "173bebba",
   "metadata": {},
   "outputs": [],
   "source": [
    "# define a mode\n",
    "# transfer learning - load pre-trained vgg and replace its head\n",
    "vgg = tf.keras.applications.VGG16(input_shape=[128, 128, 3], include_top=False, weights='imagenet')\n",
    "x = Flatten()(vgg.output)\n",
    "x = Dense(3, activation='sigmoid')(x)\n",
    "model3 = Model(vgg.input, x)\n",
    "model3.compile(loss='binary_crossentropy', optimizer=Adam(lr=0.001))\n",
    "# plot the model\n",
    "plot_model(model3, \"third_model.png\",show_shapes=True)\n",
    "\n",
    "# train it\n",
    "# needs steps per epoch since the generator is infinite\n",
    "model3.fit_generator(natural_cat_gen(),steps_per_epoch=EPOCH_SIZE,epochs=5)\n",
    "\n",
    "from matplotlib.patches import Rectangle\n",
    "\n",
    "# given image and a label, plots the image + rectangle\n",
    "def plot_pred(img,p):\n",
    "  fig, ax = plt.subplots(1)\n",
    "  ax.imshow(img)\n",
    "  rect = Rectangle(xy=(p[0]*128,p[1]*128),width=p[2]*128, height=p[2]*128, linewidth=1,edgecolor='r',facecolor='none')\n",
    "  ax.add_patch(rect)\n",
    "  plt.show()\n",
    "\n",
    "\n",
    "# generate new image\n",
    "x, _ = next(natural_cat_gen())\n",
    "# predict\n",
    "pred = model3.predict(x)\n",
    "# examine 1 image\n",
    "im = x[0]\n",
    "p = pred[0]\n",
    "plot_pred(im,p)"
   ]
  },
  {
   "cell_type": "code",
   "execution_count": null,
   "id": "14282162",
   "metadata": {},
   "outputs": [],
   "source": []
  }
 ],
 "metadata": {
  "kernelspec": {
   "display_name": "Python 3 (ipykernel)",
   "language": "python",
   "name": "python3"
  },
  "language_info": {
   "codemirror_mode": {
    "name": "ipython",
    "version": 3
   },
   "file_extension": ".py",
   "mimetype": "text/x-python",
   "name": "python",
   "nbconvert_exporter": "python",
   "pygments_lexer": "ipython3",
   "version": "3.10.4"
  },
  "vscode": {
   "interpreter": {
    "hash": "44f17972fcf345da0fb43d2fb47fffce9fe8269f5e3fb72ad2053bb948347610"
   }
  }
 },
 "nbformat": 4,
 "nbformat_minor": 5
}
