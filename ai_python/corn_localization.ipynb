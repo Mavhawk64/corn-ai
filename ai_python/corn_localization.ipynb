{
 "cells": [
  {
   "cell_type": "code",
   "execution_count": 5,
   "id": "4800e9f6",
   "metadata": {},
   "outputs": [],
   "source": [
    "# Assumption -- the image provided is a sick plant.\n",
    "import matplotlib.pyplot as plt\n",
    "import seaborn as sns\n",
    "\n",
    "import keras\n",
    "from keras.models import Sequential\n",
    "from keras.layers import Dense, Conv2D , MaxPool2D , Flatten , Dropout \n",
    "from keras.preprocessing.image import ImageDataGenerator\n",
    "from keras.optimizers import Adam\n",
    "\n",
    "from sklearn.metrics import classification_report,confusion_matrix\n",
    "\n",
    "import tensorflow as tf\n",
    "\n",
    "import cv2\n",
    "import os\n",
    "\n",
    "import numpy as np\n",
    "import random\n",
    "\n",
    "import tensorflow_datasets as tfds\n",
    "import csv\n",
    "from PIL import Image"
   ]
  },
  {
   "cell_type": "code",
   "execution_count": null,
   "id": "fce13ff0",
   "metadata": {},
   "outputs": [],
   "source": []
  },
  {
   "cell_type": "code",
   "execution_count": 6,
   "id": "453d8bf2",
   "metadata": {},
   "outputs": [
    {
     "ename": "NameError",
     "evalue": "name 'train_image_names' is not defined",
     "output_type": "error",
     "traceback": [
      "\u001b[1;31m---------------------------------------------------------------------------\u001b[0m",
      "\u001b[1;31mNameError\u001b[0m                                 Traceback (most recent call last)",
      "Cell \u001b[1;32mIn [6], line 17\u001b[0m\n\u001b[0;32m     14\u001b[0m     image \u001b[38;5;241m=\u001b[39m tf\u001b[38;5;241m.\u001b[39mimage\u001b[38;5;241m.\u001b[39mdecode_png(image, channels\u001b[38;5;241m=\u001b[39m\u001b[38;5;241m1\u001b[39m)\n\u001b[0;32m     15\u001b[0m     \u001b[38;5;28;01mreturn\u001b[39;00m image, {\u001b[38;5;124m'\u001b[39m\u001b[38;5;124mlabel\u001b[39m\u001b[38;5;124m'\u001b[39m: label, \u001b[38;5;124m'\u001b[39m\u001b[38;5;124mbbox\u001b[39m\u001b[38;5;124m'\u001b[39m: bbox} \u001b[38;5;66;03m# Notice here\u001b[39;00m\n\u001b[1;32m---> 17\u001b[0m trainloader \u001b[38;5;241m=\u001b[39m tf\u001b[38;5;241m.\u001b[39mdata\u001b[38;5;241m.\u001b[39mDataset\u001b[38;5;241m.\u001b[39mfrom_tensor_slices((\u001b[43mtrain_image_names\u001b[49m, train_labels, train_bbox))\n\u001b[0;32m     18\u001b[0m testloader \u001b[38;5;241m=\u001b[39m tf\u001b[38;5;241m.\u001b[39mdata\u001b[38;5;241m.\u001b[39mDataset\u001b[38;5;241m.\u001b[39mfrom_tensor_slices((test_image_names, test_labels, test_bbox))\n\u001b[0;32m     20\u001b[0m trainloader \u001b[38;5;241m=\u001b[39m (\n\u001b[0;32m     21\u001b[0m     trainloader\n\u001b[0;32m     22\u001b[0m     \u001b[38;5;241m.\u001b[39mmap(preprocess_train, num_parallel_calls\u001b[38;5;241m=\u001b[39mAUTO)\n\u001b[1;32m   (...)\u001b[0m\n\u001b[0;32m     25\u001b[0m     \u001b[38;5;241m.\u001b[39mprefetch(AUTO)\n\u001b[0;32m     26\u001b[0m )\n",
      "\u001b[1;31mNameError\u001b[0m: name 'train_image_names' is not defined"
     ]
    }
   ],
   "source": [
    "AUTO = tf.data.experimental.AUTOTUNE\n",
    "BATCH_SIZE = 32\n",
    "\n",
    "\n",
    "@tf.function\n",
    "def preprocess_train(image_name, label, bbox):\n",
    "    image = tf.io.read_file(TRAIN_IMG_PATH+image_name)\n",
    "    image = tf.image.decode_png(image, channels=1)\n",
    "    return image, {'label': label, 'bbox': bbox} # Notice here\n",
    "\n",
    "@tf.function\n",
    "def preprocess_test(image_name, label, bbox):\n",
    "    image = tf.io.read_file(TEST_IMG_PATH+image_name)\n",
    "    image = tf.image.decode_png(image, channels=1)\n",
    "    return image, {'label': label, 'bbox': bbox} # Notice here\n",
    "\n",
    "trainloader = tf.data.Dataset.from_tensor_slices((train_image_names, train_labels, train_bbox))\n",
    "testloader = tf.data.Dataset.from_tensor_slices((test_image_names, test_labels, test_bbox))\n",
    "\n",
    "trainloader = (\n",
    "    trainloader\n",
    "    .map(preprocess_train, num_parallel_calls=AUTO)\n",
    "    .shuffle(1024)\n",
    "    .batch(BATCH_SIZE)\n",
    "    .prefetch(AUTO)\n",
    ")\n",
    "\n",
    "testloader = (\n",
    "    testloader\n",
    "    .map(preprocess_test, num_parallel_calls=AUTO)\n",
    "    .batch(BATCH_SIZE)\n",
    "    .prefetch(AUTO)\n",
    ")\n"
   ]
  },
  {
   "cell_type": "code",
   "execution_count": null,
   "id": "42af6f56",
   "metadata": {},
   "outputs": [],
   "source": []
  }
 ],
 "metadata": {
  "kernelspec": {
   "display_name": "Python 3 (ipykernel)",
   "language": "python",
   "name": "python3"
  },
  "language_info": {
   "codemirror_mode": {
    "name": "ipython",
    "version": 3
   },
   "file_extension": ".py",
   "mimetype": "text/x-python",
   "name": "python",
   "nbconvert_exporter": "python",
   "pygments_lexer": "ipython3",
   "version": "3.10.4"
  },
  "vscode": {
   "interpreter": {
    "hash": "44f17972fcf345da0fb43d2fb47fffce9fe8269f5e3fb72ad2053bb948347610"
   }
  }
 },
 "nbformat": 4,
 "nbformat_minor": 5
}
